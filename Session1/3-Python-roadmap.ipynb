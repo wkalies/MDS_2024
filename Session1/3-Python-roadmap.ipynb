{
  "cells": [
    {
      "cell_type": "markdown",
      "metadata": {
        "id": "view-in-github",
        "colab_type": "text"
      },
      "source": [
        "<a href=\"https://colab.research.google.com/github/wkalies/MDS_2024/blob/main/Session1/3-Python-roadmap.ipynb\" target=\"_parent\"><img src=\"https://colab.research.google.com/assets/colab-badge.svg\" alt=\"Open In Colab\"/></a>"
      ]
    },
    {
      "cell_type": "markdown",
      "source": [
        "#  Other machine learning libraries and good things to know"
      ],
      "metadata": {
        "id": "RIU2AANd-JE-"
      }
    },
    {
      "cell_type": "markdown",
      "source": [
        "## An overview"
      ],
      "metadata": {
        "id": "ctl37IEwAhbZ"
      }
    },
    {
      "cell_type": "markdown",
      "source": [
        "![map](https://miro.medium.com/max/1400/1*N3oBASDtXTgpGLJkeO9v8w.jpeg)"
      ],
      "metadata": {
        "id": "uryp9wzxAudr"
      }
    },
    {
      "cell_type": "markdown",
      "source": [
        "https://medium.com/@BlueOrangeDigital/essential-python-libraries-for-machine-learning-projects-d5cef004cf60"
      ],
      "metadata": {
        "id": "_r7_PSq9BXZh"
      }
    },
    {
      "cell_type": "markdown",
      "source": [
        "## Markdown:  Not a Python library, but how you make pretty notebooks"
      ],
      "metadata": {
        "id": "MNIjtpbC-9fZ"
      }
    },
    {
      "cell_type": "markdown",
      "source": [
        "https://daringfireball.net/projects/markdown/\n",
        "\n",
        "> Markdown is a text-to-HTML conversion tool for web writers. Markdown allows you to write using an easy-to-read, easy-to-write plain text format, then convert it to structurally valid XHTML (or HTML).\n",
        "\n",
        "> Thus, “Markdown” is two things: (1) a plain text formatting syntax; and (2) a software tool, written in Perl, that converts the plain text formatting to HTML. See the Syntax page for details pertaining to Markdown’s formatting syntax. You can try it out, right now, using the online Dingus."
      ],
      "metadata": {
        "id": "8xgUi9jJ_Cqb"
      }
    },
    {
      "cell_type": "markdown",
      "source": [
        "### Getting started"
      ],
      "metadata": {
        "id": "7z-TAxv8_hxP"
      }
    },
    {
      "cell_type": "markdown",
      "source": [
        "https://wordpress.com/support/markdown-quick-reference/"
      ],
      "metadata": {
        "id": "zIGg9P5j_O3u"
      }
    },
    {
      "cell_type": "markdown",
      "source": [
        "https://docs.github.com/en/get-started/writing-on-github/getting-started-with-writing-and-formatting-on-github/basic-writing-and-formatting-syntax"
      ],
      "metadata": {
        "id": "8eDF1qZf_fdE"
      }
    },
    {
      "cell_type": "markdown",
      "source": [
        "### Latex too!"
      ],
      "metadata": {
        "id": "9Z33gnyJ_vLc"
      }
    },
    {
      "cell_type": "markdown",
      "source": [
        "https://ashki23.github.io/markdown-latex.html\n",
        "\n"
      ],
      "metadata": {
        "id": "fsqJQ9_O_t0V"
      }
    },
    {
      "cell_type": "markdown",
      "source": [
        "$$\n",
        "A_{m,n} =\n",
        "\\begin{pmatrix}\n",
        "a_{1,1} & a_{1,2} & \\cdots & a_{1,n} \\\\\n",
        "a_{2,1} & a_{2,2} & \\cdots & a_{2,n} \\\\\n",
        "\\vdots & \\vdots & \\ddots & \\vdots \\\\\n",
        "a_{m,1} & a_{m,2} & \\cdots & a_{m,n}\n",
        "\\end{pmatrix}\n",
        "$$"
      ],
      "metadata": {
        "id": "bMJuVfRpklvq"
      }
    },
    {
      "cell_type": "markdown",
      "source": [
        "## Numpy:  Making Python look like Matlab.   Matrices, vectors, and linear algebra, oh my!"
      ],
      "metadata": {
        "id": "AFFiOQQhBrLM"
      }
    },
    {
      "cell_type": "markdown",
      "source": [
        "> Using NumPy in Python gives functionality comparable to MATLAB since they are both interpreted,[20] and they both allow the user to write fast programs as long as most operations work on arrays or matrices instead of scalars."
      ],
      "metadata": {
        "id": "hiE3ZeF7IkZi"
      }
    },
    {
      "cell_type": "markdown",
      "source": [
        "https://numpy.org/doc/stable/index.html"
      ],
      "metadata": {
        "id": "R0KiM4x6E97K"
      }
    },
    {
      "cell_type": "markdown",
      "source": [
        "https://numpy.org/doc/stable/user/quickstart.html"
      ],
      "metadata": {
        "id": "-86IWA70FDsd"
      }
    },
    {
      "cell_type": "markdown",
      "source": [
        "What we have seen already"
      ],
      "metadata": {
        "id": "C2D6JE-RkpCc"
      }
    },
    {
      "cell_type": "code",
      "source": [
        "import numpy as np\n",
        "# Generate data\n",
        "number_of_points = 10\n",
        "x = np.random.uniform(0, 1, size=number_of_points)\n",
        "\n",
        "true_a = 1.0\n",
        "true_b = 0.5\n",
        "\n",
        "mu = 0.0\n",
        "sigma = 0.1\n",
        "noise = np.random.normal(loc=mu, scale=sigma, size=number_of_points)\n",
        "\n",
        "y = true_a*x + true_b + noise"
      ],
      "metadata": {
        "id": "WMKS9F8lEtNw"
      },
      "execution_count": null,
      "outputs": []
    },
    {
      "cell_type": "code",
      "source": [
        "deg = 1\n",
        "\n",
        "# Lots of math magic in here!\n",
        "z = np.polyfit(x, y, deg=deg)\n",
        "y_hat_function = np.poly1d(z)"
      ],
      "metadata": {
        "id": "_xavQPTHCHn3"
      },
      "execution_count": null,
      "outputs": []
    },
    {
      "cell_type": "markdown",
      "source": [
        "## Matplotlib:  Plotting"
      ],
      "metadata": {
        "id": "yftOIPaiBv1d"
      }
    },
    {
      "cell_type": "markdown",
      "source": [
        "> Matplotlib is a comprehensive library for creating static, animated, and interactive visualizations in Python. Matplotlib makes easy things easy and hard things possible.\n",
        "\n",
        "> * Create publication quality plots.\n",
        "* Make interactive figures that can zoom, pan, update.\n",
        "* Customize visual style and layout.\n",
        "* Export to many file formats .\n",
        "* Embed in JupyterLab and Graphical  User Interfaces.\n",
        "* Use a rich array of third-party packages built on Matplotlib."
      ],
      "metadata": {
        "id": "THa_FXH1IrLd"
      }
    },
    {
      "cell_type": "markdown",
      "source": [
        "https://matplotlib.org/stable/tutorials/introductory/usage.html"
      ],
      "metadata": {
        "id": "2zqih83-FM66"
      }
    },
    {
      "cell_type": "markdown",
      "source": [
        "https://matplotlib.org/stable/tutorials/index"
      ],
      "metadata": {
        "id": "szehbesKCIiG"
      }
    },
    {
      "cell_type": "markdown",
      "source": [
        "Even better... many, many examples!\n",
        "\n",
        "https://matplotlib.org/stable/gallery/index.html"
      ],
      "metadata": {
        "id": "eW_uejvvlLGK"
      }
    },
    {
      "cell_type": "code",
      "source": [
        "import matplotlib.pylab as py\n",
        "x_on_grid = np.arange(0,1,0.01)\n",
        "y_predictions_on_grid = y_hat_function(x_on_grid)\n",
        "\n",
        "py.scatter(x, y, color='green')\n",
        "py.scatter(x_on_grid, y_predictions_on_grid, color='cyan')\n",
        "\n",
        "py.xlabel('Presure of the awesome process')\n",
        "py.ylabel('Temperature of the awesome process');"
      ],
      "metadata": {
        "colab": {
          "base_uri": "https://localhost:8080/",
          "height": 449
        },
        "id": "8lMnBI4CEhLE",
        "outputId": "0cd3c251-82d0-4ecf-dc82-dc64588f5f5b"
      },
      "execution_count": null,
      "outputs": [
        {
          "output_type": "display_data",
          "data": {
            "text/plain": [
              "<Figure size 640x480 with 1 Axes>"
            ],
            "image/png": "[encoded data removed]"
          },
          "metadata": {}
        }
      ]
    },
    {
      "cell_type": "markdown",
      "source": [
        "## Pandas:  A great place to store your data.  Think Excel spreadsheet, but in Python"
      ],
      "metadata": {
        "id": "J2JzISROBwA3"
      }
    },
    {
      "cell_type": "markdown",
      "source": [
        "> pandas is a fast, powerful, flexible and easy to use open source data analysis and manipulation tool,\n",
        "built on top of the Python programming language."
      ],
      "metadata": {
        "id": "qC-E3VqrlUtm"
      }
    },
    {
      "cell_type": "markdown",
      "source": [
        "https://pandas.pydata.org/docs/index.html"
      ],
      "metadata": {
        "id": "hWy2MTFnFY73"
      }
    },
    {
      "cell_type": "markdown",
      "source": [
        "https://pandas.pydata.org/docs/getting_started/index.html"
      ],
      "metadata": {
        "id": "nMREBIQQCJR1"
      }
    },
    {
      "cell_type": "code",
      "source": [
        "import numpy as np\n",
        "import matplotlib.pyplot as plt  # To visualize\n",
        "import pandas as pd  # To read data\n",
        "from sklearn.linear_model import LinearRegression"
      ],
      "metadata": {
        "id": "N1KoitaQFkQL"
      },
      "execution_count": null,
      "outputs": []
    },
    {
      "cell_type": "code",
      "source": [
        "data = pd.DataFrame(data={'x':x, 'y':y})\n",
        "data"
      ],
      "metadata": {
        "colab": {
          "base_uri": "https://localhost:8080/",
          "height": 363
        },
        "id": "zzeqHT-AFtez",
        "outputId": "9b57f045-4895-4aea-815c-c219e4f647b2"
      },
      "execution_count": null,
      "outputs": [
        {
          "output_type": "execute_result",
          "data": {
            "text/plain": [
              "          x         y\n",
              "0  0.970990  1.535195\n",
              "1  0.084055  0.435506\n",
              "2  0.041369  0.595169\n",
              "3  0.548538  1.065526\n",
              "4  0.968010  1.357558\n",
              "5  0.454984  1.071253\n",
              "6  0.793951  1.304629\n",
              "7  0.968299  1.491703\n",
              "8  0.289031  0.971941\n",
              "9  0.974077  1.455868"
            ],
            "text/html": [
              "\n",
              "  <div id=\"df-d98d91b7-aeae-4199-bbb8-a08cffb09564\" class=\"colab-df-container\">\n",
              "    <div>\n",
              "<style scoped>\n",
              "    .dataframe tbody tr th:only-of-type {\n",
              "        vertical-align: middle;\n",
              "    }\n",
              "\n",
              "    .dataframe tbody tr th {\n",
              "        vertical-align: top;\n",
              "    }\n",
              "\n",
              "    .dataframe thead th {\n",
              "        text-align: right;\n",
              "    }\n",
              "</style>\n",
              "<table border=\"1\" class=\"dataframe\">\n",
              "  <thead>\n",
              "    <tr style=\"text-align: right;\">\n",
              "      <th></th>\n",
              "      <th>x</th>\n",
              "      <th>y</th>\n",
              "    </tr>\n",
              "  </thead>\n",
              "  <tbody>\n",
              "    <tr>\n",
              "      <th>0</th>\n",
              "      <td>0.970990</td>\n",
              "      <td>1.535195</td>\n",
              "    </tr>\n",
              "    <tr>\n",
              "      <th>1</th>\n",
              "      <td>0.084055</td>\n",
              "      <td>0.435506</td>\n",
              "    </tr>\n",
              "    <tr>\n",
              "      <th>2</th>\n",
              "      <td>0.041369</td>\n",
              "      <td>0.595169</td>\n",
              "    </tr>\n",
              "    <tr>\n",
              "      <th>3</th>\n",
              "      <td>0.548538</td>\n",
              "      <td>1.065526</td>\n",
              "    </tr>\n",
              "    <tr>\n",
              "      <th>4</th>\n",
              "      <td>0.968010</td>\n",
              "      <td>1.357558</td>\n",
              "    </tr>\n",
              "    <tr>\n",
              "      <th>5</th>\n",
              "      <td>0.454984</td>\n",
              "      <td>1.071253</td>\n",
              "    </tr>\n",
              "    <tr>\n",
              "      <th>6</th>\n",
              "      <td>0.793951</td>\n",
              "      <td>1.304629</td>\n",
              "    </tr>\n",
              "    <tr>\n",
              "      <th>7</th>\n",
              "      <td>0.968299</td>\n",
              "      <td>1.491703</td>\n",
              "    </tr>\n",
              "    <tr>\n",
              "      <th>8</th>\n",
              "      <td>0.289031</td>\n",
              "      <td>0.971941</td>\n",
              "    </tr>\n",
              "    <tr>\n",
              "      <th>9</th>\n",
              "      <td>0.974077</td>\n",
              "      <td>1.455868</td>\n",
              "    </tr>\n",
              "  </tbody>\n",
              "</table>\n",
              "</div>\n",
              "    <div class=\"colab-df-buttons\">\n",
              "\n",
              "  <div class=\"colab-df-container\">\n",
              "    <button class=\"colab-df-convert\" onclick=\"convertToInteractive('df-d98d91b7-aeae-4199-bbb8-a08cffb09564')\"\n",
              "            title=\"Convert this dataframe to an interactive table.\"\n",
              "            style=\"display:none;\">\n",
              "\n",
              "  <svg xmlns=\"http://www.w3.org/2000/svg\" height=\"24px\" viewBox=\"0 -960 960 960\">\n",
              "    <path d=\"M120-120v-720h720v720H120Zm60-500h600v-160H180v160Zm220 220h160v-160H400v160Zm0 220h160v-160H400v160ZM180-400h160v-160H180v160Zm440 0h160v-160H620v160ZM180-180h160v-160H180v160Zm440 0h160v-160H620v160Z\"/>\n",
              "  </svg>\n",
              "    </button>\n",
              "\n",
              "  <style>\n",
              "    .colab-df-container {\n",
              "      display:flex;\n",
              "      gap: 12px;\n",
              "    }\n",
              "\n",
              "    .colab-df-convert {\n",
              "      background-color: #E8F0FE;\n",
              "      border: none;\n",
              "      border-radius: 50%;\n",
              "      cursor: pointer;\n",
              "      display: none;\n",
              "      fill: #1967D2;\n",
              "      height: 32px;\n",
              "      padding: 0 0 0 0;\n",
              "      width: 32px;\n",
              "    }\n",
              "\n",
              "    .colab-df-convert:hover {\n",
              "      background-color: #E2EBFA;\n",
              "      box-shadow: 0px 1px 2px rgba(60, 64, 67, 0.3), 0px 1px 3px 1px rgba(60, 64, 67, 0.15);\n",
              "      fill: #174EA6;\n",
              "    }\n",
              "\n",
              "    .colab-df-buttons div {\n",
              "      margin-bottom: 4px;\n",
              "    }\n",
              "\n",
              "    [theme=dark] .colab-df-convert {\n",
              "      background-color: #3B4455;\n",
              "      fill: #D2E3FC;\n",
              "    }\n",
              "\n",
              "    [theme=dark] .colab-df-convert:hover {\n",
              "      background-color: #434B5C;\n",
              "      box-shadow: 0px 1px 3px 1px rgba(0, 0, 0, 0.15);\n",
              "      filter: drop-shadow(0px 1px 2px rgba(0, 0, 0, 0.3));\n",
              "      fill: #FFFFFF;\n",
              "    }\n",
              "  </style>\n",
              "\n",
              "    <script>\n",
              "      const buttonEl =\n",
              "        document.querySelector('#df-d98d91b7-aeae-4199-bbb8-a08cffb09564 button.colab-df-convert');\n",
              "      buttonEl.style.display =\n",
              "        google.colab.kernel.accessAllowed ? 'block' : 'none';\n",
              "\n",
              "      async function convertToInteractive(key) {\n",
              "        const element = document.querySelector('#df-d98d91b7-aeae-4199-bbb8-a08cffb09564');\n",
              "        const dataTable =\n",
              "          await google.colab.kernel.invokeFunction('convertToInteractive',\n",
              "                                                    [key], {});\n",
              "        if (!dataTable) return;\n",
              "\n",
              "        const docLinkHtml = 'Like what you see? Visit the ' +\n",
              "          '<a target=\"_blank\" href=https://colab.research.google.com/notebooks/data_table.ipynb>data table notebook</a>'\n",
              "          + ' to learn more about interactive tables.';\n",
              "        element.innerHTML = '';\n",
              "        dataTable['output_type'] = 'display_data';\n",
              "        await google.colab.output.renderOutput(dataTable, element);\n",
              "        const docLink = document.createElement('div');\n",
              "        docLink.innerHTML = docLinkHtml;\n",
              "        element.appendChild(docLink);\n",
              "      }\n",
              "    </script>\n",
              "  </div>\n",
              "\n",
              "\n",
              "<div id=\"df-d711b917-7678-4df8-bdb8-061ee0193977\">\n",
              "  <button class=\"colab-df-quickchart\" onclick=\"quickchart('df-d711b917-7678-4df8-bdb8-061ee0193977')\"\n",
              "            title=\"Suggest charts\"\n",
              "            style=\"display:none;\">\n",
              "\n",
              "<svg xmlns=\"http://www.w3.org/2000/svg\" height=\"24px\"viewBox=\"0 0 24 24\"\n",
              "     width=\"24px\">\n",
              "    <g>\n",
              "        <path d=\"M19 3H5c-1.1 0-2 .9-2 2v14c0 1.1.9 2 2 2h14c1.1 0 2-.9 2-2V5c0-1.1-.9-2-2-2zM9 17H7v-7h2v7zm4 0h-2V7h2v10zm4 0h-2v-4h2v4z\"/>\n",
              "    </g>\n",
              "</svg>\n",
              "  </button>\n",
              "\n",
              "<style>\n",
              "  .colab-df-quickchart {\n",
              "      --bg-color: #E8F0FE;\n",
              "      --fill-color: #1967D2;\n",
              "      --hover-bg-color: #E2EBFA;\n",
              "      --hover-fill-color: #174EA6;\n",
              "      --disabled-fill-color: #AAA;\n",
              "      --disabled-bg-color: #DDD;\n",
              "  }\n",
              "\n",
              "  [theme=dark] .colab-df-quickchart {\n",
              "      --bg-color: #3B4455;\n",
              "      --fill-color: #D2E3FC;\n",
              "      --hover-bg-color: #434B5C;\n",
              "      --hover-fill-color: #FFFFFF;\n",
              "      --disabled-bg-color: #3B4455;\n",
              "      --disabled-fill-color: #666;\n",
              "  }\n",
              "\n",
              "  .colab-df-quickchart {\n",
              "    background-color: var(--bg-color);\n",
              "    border: none;\n",
              "    border-radius: 50%;\n",
              "    cursor: pointer;\n",
              "    display: none;\n",
              "    fill: var(--fill-color);\n",
              "    height: 32px;\n",
              "    padding: 0;\n",
              "    width: 32px;\n",
              "  }\n",
              "\n",
              "  .colab-df-quickchart:hover {\n",
              "    background-color: var(--hover-bg-color);\n",
              "    box-shadow: 0 1px 2px rgba(60, 64, 67, 0.3), 0 1px 3px 1px rgba(60, 64, 67, 0.15);\n",
              "    fill: var(--button-hover-fill-color);\n",
              "  }\n",
              "\n",
              "  .colab-df-quickchart-complete:disabled,\n",
              "  .colab-df-quickchart-complete:disabled:hover {\n",
              "    background-color: var(--disabled-bg-color);\n",
              "    fill: var(--disabled-fill-color);\n",
              "    box-shadow: none;\n",
              "  }\n",
              "\n",
              "  .colab-df-spinner {\n",
              "    border: 2px solid var(--fill-color);\n",
              "    border-color: transparent;\n",
              "    border-bottom-color: var(--fill-color);\n",
              "    animation:\n",
              "      spin 1s steps(1) infinite;\n",
              "  }\n",
              "\n",
              "  @keyframes spin {\n",
              "    0% {\n",
              "      border-color: transparent;\n",
              "      border-bottom-color: var(--fill-color);\n",
              "      border-left-color: var(--fill-color);\n",
              "    }\n",
              "    20% {\n",
              "      border-color: transparent;\n",
              "      border-left-color: var(--fill-color);\n",
              "      border-top-color: var(--fill-color);\n",
              "    }\n",
              "    30% {\n",
              "      border-color: transparent;\n",
              "      border-left-color: var(--fill-color);\n",
              "      border-top-color: var(--fill-color);\n",
              "      border-right-color: var(--fill-color);\n",
              "    }\n",
              "    40% {\n",
              "      border-color: transparent;\n",
              "      border-right-color: var(--fill-color);\n",
              "      border-top-color: var(--fill-color);\n",
              "    }\n",
              "    60% {\n",
              "      border-color: transparent;\n",
              "      border-right-color: var(--fill-color);\n",
              "    }\n",
              "    80% {\n",
              "      border-color: transparent;\n",
              "      border-right-color: var(--fill-color);\n",
              "      border-bottom-color: var(--fill-color);\n",
              "    }\n",
              "    90% {\n",
              "      border-color: transparent;\n",
              "      border-bottom-color: var(--fill-color);\n",
              "    }\n",
              "  }\n",
              "</style>\n",
              "\n",
              "  <script>\n",
              "    async function quickchart(key) {\n",
              "      const quickchartButtonEl =\n",
              "        document.querySelector('#' + key + ' button');\n",
              "      quickchartButtonEl.disabled = true;  // To prevent multiple clicks.\n",
              "      quickchartButtonEl.classList.add('colab-df-spinner');\n",
              "      try {\n",
              "        const charts = await google.colab.kernel.invokeFunction(\n",
              "            'suggestCharts', [key], {});\n",
              "      } catch (error) {\n",
              "        console.error('Error during call to suggestCharts:', error);\n",
              "      }\n",
              "      quickchartButtonEl.classList.remove('colab-df-spinner');\n",
              "      quickchartButtonEl.classList.add('colab-df-quickchart-complete');\n",
              "    }\n",
              "    (() => {\n",
              "      let quickchartButtonEl =\n",
              "        document.querySelector('#df-d711b917-7678-4df8-bdb8-061ee0193977 button');\n",
              "      quickchartButtonEl.style.display =\n",
              "        google.colab.kernel.accessAllowed ? 'block' : 'none';\n",
              "    })();\n",
              "  </script>\n",
              "</div>\n",
              "\n",
              "  <div id=\"id_a24a9f52-9a2d-4a5d-a373-d5008690abde\">\n",
              "    <style>\n",
              "      .colab-df-generate {\n",
              "        background-color: #E8F0FE;\n",
              "        border: none;\n",
              "        border-radius: 50%;\n",
              "        cursor: pointer;\n",
              "        display: none;\n",
              "        fill: #1967D2;\n",
              "        height: 32px;\n",
              "        padding: 0 0 0 0;\n",
              "        width: 32px;\n",
              "      }\n",
              "\n",
              "      .colab-df-generate:hover {\n",
              "        background-color: #E2EBFA;\n",
              "        box-shadow: 0px 1px 2px rgba(60, 64, 67, 0.3), 0px 1px 3px 1px rgba(60, 64, 67, 0.15);\n",
              "        fill: #174EA6;\n",
              "      }\n",
              "\n",
              "      [theme=dark] .colab-df-generate {\n",
              "        background-color: #3B4455;\n",
              "        fill: #D2E3FC;\n",
              "      }\n",
              "\n",
              "      [theme=dark] .colab-df-generate:hover {\n",
              "        background-color: #434B5C;\n",
              "        box-shadow: 0px 1px 3px 1px rgba(0, 0, 0, 0.15);\n",
              "        filter: drop-shadow(0px 1px 2px rgba(0, 0, 0, 0.3));\n",
              "        fill: #FFFFFF;\n",
              "      }\n",
              "    </style>\n",
              "    <button class=\"colab-df-generate\" onclick=\"generateWithVariable('data')\"\n",
              "            title=\"Generate code using this dataframe.\"\n",
              "            style=\"display:none;\">\n",
              "\n",
              "  <svg xmlns=\"http://www.w3.org/2000/svg\" height=\"24px\"viewBox=\"0 0 24 24\"\n",
              "       width=\"24px\">\n",
              "    <path d=\"M7,19H8.4L18.45,9,17,7.55,7,17.6ZM5,21V16.75L18.45,3.32a2,2,0,0,1,2.83,0l1.4,1.43a1.91,1.91,0,0,1,.58,1.4,1.91,1.91,0,0,1-.58,1.4L9.25,21ZM18.45,9,17,7.55Zm-12,3A5.31,5.31,0,0,0,4.9,8.1,5.31,5.31,0,0,0,1,6.5,5.31,5.31,0,0,0,4.9,4.9,5.31,5.31,0,0,0,6.5,1,5.31,5.31,0,0,0,8.1,4.9,5.31,5.31,0,0,0,12,6.5,5.46,5.46,0,0,0,6.5,12Z\"/>\n",
              "  </svg>\n",
              "    </button>\n",
              "    <script>\n",
              "      (() => {\n",
              "      const buttonEl =\n",
              "        document.querySelector('#id_a24a9f52-9a2d-4a5d-a373-d5008690abde button.colab-df-generate');\n",
              "      buttonEl.style.display =\n",
              "        google.colab.kernel.accessAllowed ? 'block' : 'none';\n",
              "\n",
              "      buttonEl.onclick = () => {\n",
              "        google.colab.notebook.generateWithVariable('data');\n",
              "      }\n",
              "      })();\n",
              "    </script>\n",
              "  </div>\n",
              "\n",
              "    </div>\n",
              "  </div>\n"
            ],
            "application/vnd.google.colaboratory.intrinsic+json": {
              "type": "dataframe",
              "variable_name": "data",
              "summary": "{\n  \"name\": \"data\",\n  \"rows\": 10,\n  \"fields\": [\n    {\n      \"column\": \"x\",\n      \"properties\": {\n        \"dtype\": \"number\",\n        \"std\": 0.37771780208894734,\n        \"min\": 0.041368960560510426,\n        \"max\": 0.9740774184621318,\n        \"num_unique_values\": 10,\n        \"samples\": [\n          0.28903064792208066,\n          0.08405524311837598,\n          0.4549842547562307\n        ],\n        \"semantic_type\": \"\",\n        \"description\": \"\"\n      }\n    },\n    {\n      \"column\": \"y\",\n      \"properties\": {\n        \"dtype\": \"number\",\n        \"std\": 0.3777730480061208,\n        \"min\": 0.4355060215834655,\n        \"max\": 1.535194510764746,\n        \"num_unique_values\": 10,\n        \"samples\": [\n          0.9719405786366062,\n          0.4355060215834655,\n          1.071253201626755\n        ],\n        \"semantic_type\": \"\",\n        \"description\": \"\"\n      }\n    }\n  ]\n}"
            }
          },
          "metadata": {},
          "execution_count": 5
        }
      ]
    },
    {
      "cell_type": "code",
      "source": [
        "deg = 1\n",
        "\n",
        "# Lots of math magic in here!\n",
        "z = np.polyfit(data['x'], data['y'], deg=deg)\n",
        "y_hat_function = np.poly1d(z)\n",
        "data['y_hat'] = y_hat_function(data['x'])"
      ],
      "metadata": {
        "id": "uA8kUNNWGPz8"
      },
      "execution_count": null,
      "outputs": []
    },
    {
      "cell_type": "markdown",
      "source": [
        "Pandas makes visualization easy too!\n",
        "\n",
        "https://pandas.pydata.org/pandas-docs/stable/user_guide/visualization.html"
      ],
      "metadata": {
        "id": "wqr0YML4HAnm"
      }
    },
    {
      "cell_type": "code",
      "source": [
        "ax = data.plot(x='x',y='y', kind='scatter')\n",
        "data.plot(x='x',y='y_hat', kind='line', ax=ax)\n"
      ],
      "metadata": {
        "colab": {
          "base_uri": "https://localhost:8080/",
          "height": 467
        },
        "id": "3eoZ5JbPG1aW",
        "outputId": "9c1e0e55-d43c-4cdc-e47d-918ec776762f"
      },
      "execution_count": null,
      "outputs": [
        {
          "output_type": "execute_result",
          "data": {
            "text/plain": [
              "<Axes: xlabel='x', ylabel='y'>"
            ]
          },
          "metadata": {},
          "execution_count": 7
        },
        {
          "output_type": "display_data",
          "data": {
            "text/plain": [
              "<Figure size 640x480 with 1 Axes>"
            ],
            "image/png": "[encoded data removed]"
          },
          "metadata": {}
        }
      ]
    },
    {
      "cell_type": "markdown",
      "source": [
        "## Stasmodels:  All the math!"
      ],
      "metadata": {
        "id": "i_SWOmnsKv6y"
      }
    },
    {
      "cell_type": "markdown",
      "source": [
        "> statsmodels is a Python module that provides classes and functions for the estimation of many different statistical models, as well as for conducting statistical tests, and statistical data exploration. An extensive list of result statistics are available for each estimator. The results are tested against existing statistical packages to ensure that they are correct. The package is released under the open source Modified BSD (3-clause) license. The online documentation is hosted at statsmodels.org."
      ],
      "metadata": {
        "id": "qh-IupEHLVo1"
      }
    },
    {
      "cell_type": "markdown",
      "source": [
        "https://www.statsmodels.org/stable/index.html"
      ],
      "metadata": {
        "id": "56y2Gx-fLTX0"
      }
    },
    {
      "cell_type": "code",
      "source": [
        "import statsmodels.formula.api as smf"
      ],
      "metadata": {
        "id": "766kLVEyK0mU"
      },
      "execution_count": null,
      "outputs": []
    },
    {
      "cell_type": "code",
      "source": [
        "results = smf.ols('y ~ x', data=data).fit()"
      ],
      "metadata": {
        "id": "VZaG2OD6K50J"
      },
      "execution_count": null,
      "outputs": []
    },
    {
      "cell_type": "markdown",
      "source": [
        "What does all this mean?"
      ],
      "metadata": {
        "id": "YyEIpjSvLGWC"
      }
    },
    {
      "cell_type": "code",
      "source": [
        "print(results.summary())"
      ],
      "metadata": {
        "colab": {
          "base_uri": "https://localhost:8080/"
        },
        "id": "i_VhQFDULDpY",
        "outputId": "7a59ebb7-ca89-4bd5-ee88-0ef22b142742"
      },
      "execution_count": null,
      "outputs": [
        {
          "output_type": "stream",
          "name": "stdout",
          "text": [
            "                            OLS Regression Results                            \n",
            "==============================================================================\n",
            "Dep. Variable:                      y   R-squared:                       0.934\n",
            "Model:                            OLS   Adj. R-squared:                  0.926\n",
            "Method:                 Least Squares   F-statistic:                     113.6\n",
            "Date:                Thu, 17 Oct 2024   Prob (F-statistic):           5.25e-06\n",
            "Time:                        16:20:15   Log-Likelihood:                 9.6806\n",
            "No. Observations:                  10   AIC:                            -15.36\n",
            "Df Residuals:                       8   BIC:                            -14.76\n",
            "Df Model:                           1                                         \n",
            "Covariance Type:            nonrobust                                         \n",
            "==============================================================================\n",
            "                 coef    std err          t      P>|t|      [0.025      0.975]\n",
            "------------------------------------------------------------------------------\n",
            "Intercept      0.5394      0.064      8.415      0.000       0.392       0.687\n",
            "x              0.9667      0.091     10.661      0.000       0.758       1.176\n",
            "==============================================================================\n",
            "Omnibus:                        1.033   Durbin-Watson:                   2.558\n",
            "Prob(Omnibus):                  0.597   Jarque-Bera (JB):                0.341\n",
            "Skew:                          -0.441   Prob(JB):                        0.843\n",
            "Kurtosis:                       2.802   Cond. No.                         3.93\n",
            "==============================================================================\n",
            "\n",
            "Notes:\n",
            "[1] Standard Errors assume that the covariance matrix of the errors is correctly specified.\n"
          ]
        },
        {
          "output_type": "stream",
          "name": "stderr",
          "text": [
            "/usr/local/lib/python3.10/dist-packages/scipy/stats/_axis_nan_policy.py:531: UserWarning: kurtosistest only valid for n>=20 ... continuing anyway, n=10\n",
            "  res = hypotest_fun_out(*samples, **kwds)\n"
          ]
        }
      ]
    },
    {
      "cell_type": "markdown",
      "source": [
        "## Seaborn:  Classic statistical analysis made easy"
      ],
      "metadata": {
        "id": "-TdiYBL7-N2x"
      }
    },
    {
      "cell_type": "markdown",
      "source": [
        "https://seaborn.pydata.org/\n",
        "\n",
        "> Seaborn is a Python data visualization library based on matplotlib. It provides a high-level interface for drawing attractive and informative statistical graphics.\n",
        "\n",
        "> For a brief introduction to the ideas behind the library, you can read the introductory notes or the paper. Visit the installation page to see how you can download the package and get started with it. You can browse the example gallery to see some of the things that you can do with seaborn, and then check out the tutorial or API reference to find out how."
      ],
      "metadata": {
        "id": "lin1Kt6d-TdR"
      }
    },
    {
      "cell_type": "code",
      "source": [
        "import seaborn as sns"
      ],
      "metadata": {
        "id": "2vMUxQsZJKAl"
      },
      "execution_count": null,
      "outputs": []
    },
    {
      "cell_type": "markdown",
      "source": [
        "One command!"
      ],
      "metadata": {
        "id": "_YWSAiKrJPED"
      }
    },
    {
      "cell_type": "markdown",
      "source": [
        "https://seaborn.pydata.org/tutorial/regression.html"
      ],
      "metadata": {
        "id": "NN45nKnvJbJr"
      }
    },
    {
      "cell_type": "code",
      "source": [
        "sns.regplot(x=\"x\", y=\"y\", data=data)"
      ],
      "metadata": {
        "id": "D3wOM8cxIUNn",
        "colab": {
          "base_uri": "https://localhost:8080/",
          "height": 472
        },
        "outputId": "45e9d4fb-0bd3-44fa-9df5-bb445c85d33f"
      },
      "execution_count": null,
      "outputs": [
        {
          "output_type": "execute_result",
          "data": {
            "text/plain": [
              "<Axes: xlabel='x', ylabel='y'>"
            ]
          },
          "metadata": {},
          "execution_count": 12
        },
        {
          "output_type": "display_data",
          "data": {
            "text/plain": [
              "<Figure size 640x480 with 1 Axes>"
            ],
            "image/png": "[encoded data removed]"
          },
          "metadata": {}
        }
      ]
    },
    {
      "cell_type": "markdown",
      "source": [
        "What is that light blue area!?"
      ],
      "metadata": {
        "id": "1rnfgJgdlz7M"
      }
    },
    {
      "cell_type": "markdown",
      "source": [
        "## Scikit Learn:  Machine Learning made easy.\n",
        "\n"
      ],
      "metadata": {
        "id": "WEzdTYXF-Nme"
      }
    },
    {
      "cell_type": "markdown",
      "source": [
        "> Simple and efficient tools for predictive data analysis\n",
        "Accessible to everybody, and reusable in various contexts\n",
        "Built on NumPy, SciPy, and matplotlib\n",
        "Open source, commercially usable - BSD license"
      ],
      "metadata": {
        "id": "XHpUGAHqCKBk"
      }
    },
    {
      "cell_type": "markdown",
      "source": [
        "![map](https://scikit-learn.org/stable/_downloads/b82bf6cd7438a351f19fac60fbc0d927/ml_map.svg)"
      ],
      "metadata": {
        "id": "D4VnlPu0MAsM"
      }
    },
    {
      "cell_type": "markdown",
      "source": [
        "https://scikit-learn.org/stable/"
      ],
      "metadata": {
        "id": "4VrlUO7DL0t8"
      }
    },
    {
      "cell_type": "markdown",
      "source": [
        "Again, many, many examples!\n",
        "\n",
        "https://scikit-learn.org/stable/auto_examples/index.html"
      ],
      "metadata": {
        "id": "SgBUqYrFL46p"
      }
    },
    {
      "cell_type": "code",
      "source": [
        "# Generate data\n",
        "number_of_points = 100\n",
        "x = np.random.uniform(0, 1, size=number_of_points)\n",
        "\n",
        "true_a = 1.0\n",
        "true_b = 0.5\n",
        "\n",
        "mu = 0.0\n",
        "sigma = 0.1\n",
        "noise = np.random.normal(loc=mu, scale=sigma, size=number_of_points)\n",
        "\n",
        "y = true_a*x + true_b + noise"
      ],
      "metadata": {
        "id": "7V_1PwRYNMQW"
      },
      "execution_count": null,
      "outputs": []
    },
    {
      "cell_type": "code",
      "source": [
        "from sklearn.linear_model import LinearRegression\n",
        "\n",
        "# Make x into a 2D array\n",
        "X = x.reshape(-1,1)\n",
        "reg = LinearRegression().fit(X, y)\n"
      ],
      "metadata": {
        "id": "yID8kHpAGJ9l"
      },
      "execution_count": null,
      "outputs": []
    },
    {
      "cell_type": "code",
      "source": [
        "reg.coef_\n"
      ],
      "metadata": {
        "colab": {
          "base_uri": "https://localhost:8080/"
        },
        "id": "gdYJ8qA3NEoE",
        "outputId": "122e3098-705c-4018-8c89-7cfcc018d8c3"
      },
      "execution_count": null,
      "outputs": [
        {
          "output_type": "execute_result",
          "data": {
            "text/plain": [
              "array([1.02787788])"
            ]
          },
          "metadata": {},
          "execution_count": 15
        }
      ]
    },
    {
      "cell_type": "code",
      "source": [
        "reg.intercept_\n"
      ],
      "metadata": {
        "colab": {
          "base_uri": "https://localhost:8080/"
        },
        "id": "rFtkZC3mNFVn",
        "outputId": "688e6240-d0b7-4c23-d81c-d324be918e8c"
      },
      "execution_count": null,
      "outputs": [
        {
          "output_type": "execute_result",
          "data": {
            "text/plain": [
              "0.47740758971411323"
            ]
          },
          "metadata": {},
          "execution_count": 16
        }
      ]
    },
    {
      "cell_type": "code",
      "source": [
        "y_hat = reg.predict(X)\n",
        "py.scatter(x,y)\n",
        "py.plot(x,y_hat)"
      ],
      "metadata": {
        "colab": {
          "base_uri": "https://localhost:8080/",
          "height": 449
        },
        "id": "gl6CO7oyNFzX",
        "outputId": "8d690159-d8b2-4623-a7a8-94b2febda853"
      },
      "execution_count": null,
      "outputs": [
        {
          "output_type": "execute_result",
          "data": {
            "text/plain": [
              "[<matplotlib.lines.Line2D at 0x7e65c2a43070>]"
            ]
          },
          "metadata": {},
          "execution_count": 17
        },
        {
          "output_type": "display_data",
          "data": {
            "text/plain": [
              "<Figure size 640x480 with 1 Axes>"
            ],
            "image/png": "[encoded data removed]"
          },
          "metadata": {}
        }
      ]
    },
    {
      "cell_type": "markdown",
      "source": [
        "## Pytorch:  A doorway to more advanced techniques"
      ],
      "metadata": {
        "id": "LVn5CCmSSUyW"
      }
    },
    {
      "cell_type": "markdown",
      "source": [
        "> PyTorch enables fast, flexible experimentation and efficient production through a user-friendly front-end, distributed training, and ecosystem of tools and libraries."
      ],
      "metadata": {
        "id": "Fh8PWnTKUY-6"
      }
    },
    {
      "cell_type": "markdown",
      "source": [
        "https://pytorch.org/"
      ],
      "metadata": {
        "id": "gOtZ9xkuULku"
      }
    },
    {
      "cell_type": "markdown",
      "source": [
        "https://pytorch.org/tutorials/"
      ],
      "metadata": {
        "id": "16gkc4E_UfYi"
      }
    },
    {
      "cell_type": "markdown",
      "source": [
        "https://towardsdatascience.com/linear-regression-with-pytorch-eb6dedead817"
      ],
      "metadata": {
        "id": "sASCQl98FprV"
      }
    },
    {
      "cell_type": "code",
      "source": [
        "import torch\n",
        "from torch.autograd import Variable\n"
      ],
      "metadata": {
        "id": "IycJBWAvFn3t"
      },
      "execution_count": null,
      "outputs": []
    },
    {
      "cell_type": "code",
      "source": [
        "class linearRegression(torch.nn.Module):\n",
        "    def __init__(self, inputSize, outputSize):\n",
        "        super(linearRegression, self).__init__()\n",
        "        self.linear = torch.nn.Linear(inputSize, outputSize)\n",
        "\n",
        "    def forward(self, x):\n",
        "        out = self.linear(x)\n",
        "        return out"
      ],
      "metadata": {
        "id": "wQAoua4XT7qk"
      },
      "execution_count": null,
      "outputs": []
    },
    {
      "cell_type": "code",
      "source": [
        "# Generate data\n",
        "number_of_points = 100\n",
        "x = np.random.uniform(0, 1, size=number_of_points)\n",
        "\n",
        "true_a = 1.0\n",
        "true_b = 0.5\n",
        "\n",
        "mu = 0.0\n",
        "sigma = 0.1\n",
        "noise = np.random.normal(loc=mu, scale=sigma, size=number_of_points)\n",
        "\n",
        "y = true_a*x + true_b + noise"
      ],
      "metadata": {
        "id": "AN1Mjec5SAmC"
      },
      "execution_count": null,
      "outputs": []
    },
    {
      "cell_type": "code",
      "source": [
        "x_train = x.reshape(-1,1).astype(np.float32)\n",
        "y_train = y.reshape(-1,1).astype(np.float32)"
      ],
      "metadata": {
        "id": "Fxl5sLOSSHFT"
      },
      "execution_count": null,
      "outputs": []
    },
    {
      "cell_type": "code",
      "source": [
        "inputDim = 1        # takes variable 'x'\n",
        "outputDim = 1       # takes variable 'y'\n",
        "learningRate = 0.01\n",
        "epochs = 1000"
      ],
      "metadata": {
        "id": "vzAjsZKJSQo3"
      },
      "execution_count": null,
      "outputs": []
    },
    {
      "cell_type": "code",
      "source": [
        "model = linearRegression(inputDim, outputDim)\n",
        "##### For GPU #######\n",
        "if torch.cuda.is_available():\n",
        "    model.cuda()"
      ],
      "metadata": {
        "id": "0gGeZIEnSLb7"
      },
      "execution_count": null,
      "outputs": []
    },
    {
      "cell_type": "code",
      "source": [
        "criterion = torch.nn.MSELoss()\n",
        "optimizer = torch.optim.SGD(model.parameters(), lr=learningRate)"
      ],
      "metadata": {
        "id": "WCIOYAh3ST6Z"
      },
      "execution_count": null,
      "outputs": []
    },
    {
      "cell_type": "code",
      "source": [
        "loss_list = []\n",
        "for epoch in range(epochs):\n",
        "    # Converting inputs and labels to Variable\n",
        "    if torch.cuda.is_available():\n",
        "        inputs = Variable(torch.from_numpy(x_train).cuda())\n",
        "        labels = Variable(torch.from_numpy(y_train).cuda())\n",
        "    else:\n",
        "        inputs = Variable(torch.from_numpy(x_train))\n",
        "        labels = Variable(torch.from_numpy(y_train))\n",
        "\n",
        "    # Clear gradient buffers because we don't want any gradient from previous epoch to carry forward, dont want to cummulate gradients\n",
        "    optimizer.zero_grad()\n",
        "\n",
        "    # get output from the model, given the inputs\n",
        "    outputs = model(inputs)\n",
        "\n",
        "    # get loss for the predicted output\n",
        "    loss = criterion(outputs, labels)\n",
        "    # get gradients w.r.t to parameters\n",
        "    loss.backward()\n",
        "\n",
        "    # update parameters\n",
        "    optimizer.step()\n",
        "\n",
        "    loss_list += [loss.item()]"
      ],
      "metadata": {
        "id": "Oxa5Vi83R948"
      },
      "execution_count": null,
      "outputs": []
    },
    {
      "cell_type": "code",
      "source": [
        "py.plot(loss_list)"
      ],
      "metadata": {
        "colab": {
          "base_uri": "https://localhost:8080/",
          "height": 448
        },
        "id": "-hsCKyu0T2jK",
        "outputId": "4660e90b-7ba5-4151-f5cc-c088ee0d0dd6"
      },
      "execution_count": null,
      "outputs": [
        {
          "output_type": "execute_result",
          "data": {
            "text/plain": [
              "[<matplotlib.lines.Line2D at 0x7e64e92a57b0>]"
            ]
          },
          "metadata": {},
          "execution_count": 26
        },
        {
          "output_type": "display_data",
          "data": {
            "text/plain": [
              "<Figure size 640x480 with 1 Axes>"
            ],
            "image/png": "[encoded data removed]"
          },
          "metadata": {}
        }
      ]
    },
    {
      "cell_type": "code",
      "source": [
        "with torch.no_grad(): # we don't need gradients in the testing phase\n",
        "    if torch.cuda.is_available():\n",
        "        predicted = model(Variable(torch.from_numpy(x_train).cuda())).cpu().data.numpy()\n",
        "    else:\n",
        "        predicted = model(Variable(torch.from_numpy(x_train))).data.numpy()\n",
        "\n",
        "plt.clf()\n",
        "plt.plot(x_train, y_train, 'go', label='True data', alpha=0.5)\n",
        "plt.plot(x_train, predicted, '--', label='Predictions', alpha=0.5)\n",
        "plt.legend(loc='best')\n",
        "plt.show()"
      ],
      "metadata": {
        "colab": {
          "base_uri": "https://localhost:8080/",
          "height": 430
        },
        "id": "ayItS4ZPR-HL",
        "outputId": "ba475d6d-2790-4cf2-80b1-529a8803610c"
      },
      "execution_count": null,
      "outputs": [
        {
          "output_type": "display_data",
          "data": {
            "text/plain": [
              "<Figure size 640x480 with 1 Axes>"
            ],
            "image/png": "[encoded data removed]"
          },
          "metadata": {}
        }
      ]
    },
    {
      "cell_type": "markdown",
      "source": [],
      "metadata": {
        "id": "dJtAATBUEHQQ"
      }
    }
  ],
  "metadata": {
    "anaconda-cloud": {},
    "kernelspec": {
      "display_name": "Python 3",
      "language": "python",
      "name": "python3"
    },
    "language_info": {
      "codemirror_mode": {
        "name": "ipython",
        "version": 3
      },
      "file_extension": ".py",
      "mimetype": "text/x-python",
      "name": "python",
      "nbconvert_exporter": "python",
      "pygments_lexer": "ipython3",
      "version": "3.6.8"
    },
    "colab": {
      "name": "Roadmap",
      "provenance": [],
      "toc_visible": true,
      "include_colab_link": true
    }
  },
  "nbformat": 4,
  "nbformat_minor": 0
}